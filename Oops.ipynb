{
  "nbformat": 4,
  "nbformat_minor": 0,
  "metadata": {
    "colab": {
      "provenance": []
    },
    "kernelspec": {
      "name": "python3",
      "display_name": "Python 3"
    },
    "language_info": {
      "name": "python"
    }
  },
  "cells": [
    {
      "cell_type": "markdown",
      "source": [
        " # Python OOPS Question"
      ],
      "metadata": {
        "id": "GxruyeRxnP94"
      }
    },
    {
      "cell_type": "markdown",
      "source": [
        "1. What is Object-Oriented Programming (OOP)?\n",
        "- Object-oriented programming (OOP) is a programming paradigm that organizes code around \"objects,\" which are data instances with associated behaviors (methods).\n",
        "\n",
        "2. What is a class in OOP?\n",
        "- In Object-Oriented Programming (OOP), a class is aclass are blueprinting / template for creating on object.\n",
        "\n",
        "3. What is an object in OOP?\n",
        "- In object-oriented programming (OOP), an object is a fundamental unit that combines data (attributes) and code (methods) to represent a real-world entity or concept.\n",
        "\n",
        "4. What is the difference between abstraction and encapsulation?\n",
        "- Encapsulation hides data, preventing the users from directly accessing it, (providing controlled access) which is also known as data hiding. Abstraction focuses on “what” the object does . Encapsulation focuses on “How” the object does it. Example: CAR - the driver of the car only needs to know how to drive it.\n",
        "\n",
        "5. What are dunder methods in Python?\n",
        "-  magic methods/dunder methoda, are special methods in Python that begin and end with double underscores (e.g., __init__, __str__, __len__).\n",
        "\n",
        "6. Explain the concept of inheritance in OOP.\n",
        "- inheritance refers to process of child class receiving the properties of parent class.\n",
        "\n",
        "7.What is polymorphism in OOP.\n",
        "- olymorphism in object-oriented programming (OOP) refers to the ability of an object to take on many forms, or to exhibit different behaviors based on the context. It allows you to treat objects of different classes as if they belong to a common type, promoting code reusability and flexibility.\n",
        "\n",
        "8. How is encapsulation achieved in Python?\n",
        "- Encapsulation is achieved by declaring a class's data members and methods as either private or protected. But in Python, we do not have keywords like public, private, and protected, as in the case of Java. Instead, we achieve this by using single and double underscores.\n",
        "\n",
        "9. What is a constructor in Python?\n",
        "- Encapsulation is achieved by declaring a class's data members and methods as either private or protected. But in Python, we do not have keywords like public, private, and protected, as in the case of Java. Instead, we achieve this by using single and double underscores.\n",
        "\n",
        "10. What are class and static methods in Python?\n",
        "- n Python, class and static methods are special types of methods bound to a class rather than an instance of the class. They are defined using decorators: @classmethod for class methods and @staticmethod for static methods.\n",
        "\n",
        "11. What is method overloading in Python?\n",
        "- method overloading in Python refers to the ability to define multiple methods of the same name, but with different parameters. In many object-oriented programming languages, overloading is used to create different implementations of a method, depending on the number or type of arguments passed.\n",
        "\n",
        "12. What is method overriding in OOP?\n",
        "- Method overriding in Python occurs when a child class defines a method that has the same name and parameters as a method in its parent class. The child class method overrides or replaces the parent class method when called on an instance of the child class.\n",
        "\n",
        "13. What is a property decorator in Python?\n",
        "- The decorator is a built-in Python decorator that allows you to turn class methods into properties in a way that's both elegant and user-friendly.\n",
        "\n",
        "14. Why is polymorphism important in OOP?\n",
        "- Polymorphism is an important features of OOP concept. Polymorphism means ability to take more than one form. An operation may exhibit n. different behavior in different types of data used in operation. behavior depends upon the\n",
        "type of data used in opreration.\n",
        "\n",
        "15.  What is an abstract class in Python?\n",
        "- abstract class may contain methodes that are just declered are not implemented in abstract class itself subclass are responsible for implemeting thes abstraced method.if in inherited class a method in not present from abstract class it will not throw error.\n",
        "\n",
        "16. What are the advantages of OOP?\n",
        "- ne of the top advantages of OOP is that it allows developers to divide a complex software system into small, manageable objects. Each object is responsible for a specific function. They can develop, test, and maintain these self-contained units independently.\n",
        "\n",
        "17. What is the difference between a class variable and an instance variable?\n",
        "- class variable belongs to the class itself,Shared across all instances,Affects all instances,Common to all instances (e.g., counters). and instance variable is \tBelongs to the specific instance, Unique to each instance, Affects only the specific instance, Specific to each instance (e.g., attributes).\n",
        "\n",
        "18. What is multiple inheritance in Python?\n",
        "- multipal inheritance >> one child class my inherit of multiple prents class.\n",
        "Multiple inheritance in Python is a feature that allows a class to inherit attributes and methods from more than one parent class. This is in contrast to single inheritance, where a class inherits from just one parent class.\n",
        "\n",
        "19. Explain the purpose of \"__str__' and '__repr__\" methods in Python.\n",
        "- __repr__() returns the official string representation, which is aimed at programmers as they develop and maintain a program. The special method . __str__() returns the informal string representation, a friendlier format for the program's user.\n",
        "\n",
        "20. What is the significance of the 'super()' function in Python?\n",
        "- The super() function is used to give access to methods and properties of a parent or sibling class. The super() function returns an object that represents the parent class.\n",
        "\n",
        "21. What is the significance of the __del__ method in Python?\n",
        "- The __del__ method in Python is a powerful tool for managing resource cleanup when objects are destroyed.\n",
        "\n",
        "22. What is the difference between @staticmethod and @classmethod in Python?\n",
        "- class method to be used when you want to modify class level data.\n",
        " * cls as first argument.\n",
        " * access & modify class level data\n",
        "- static method when you dont want to interact with class level data.\n",
        " * no first argument\n",
        " * can not access\n",
        "\n",
        "23. How does polymorphism work in Python with inheritance?\n",
        "-  Polymorphism in Python works as it does in other object-oriented programming (OOP) languages: it allows a subclass to override a method of its superclass. This means that the same method name can be used for methods in different classes, allowing the same interface to be used for different types.   "
      ],
      "metadata": {
        "id": "6QMcVcMtniQG"
      }
    },
    {
      "cell_type": "code",
      "source": [
        "class animal:\n",
        "  def sound (self):\n",
        "    print (\"animal sound\")"
      ],
      "metadata": {
        "id": "7qoULbX4fdTy"
      },
      "execution_count": null,
      "outputs": []
    },
    {
      "cell_type": "code",
      "execution_count": null,
      "metadata": {
        "id": "j6eNCzCnnNbE"
      },
      "outputs": [],
      "source": [
        "class dog(animal):\n",
        "  def sound (self):\n",
        "    print (\"bark\")"
      ]
    },
    {
      "cell_type": "code",
      "source": [
        "dog.sound()"
      ],
      "metadata": {
        "colab": {
          "base_uri": "https://localhost:8080/"
        },
        "id": "La7WZ7fTgYkU",
        "outputId": "f80606b3-2e41-4a63-9be3-cebe26411ea1"
      },
      "execution_count": null,
      "outputs": [
        {
          "output_type": "stream",
          "name": "stdout",
          "text": [
            "bark\n"
          ]
        }
      ]
    },
    {
      "cell_type": "markdown",
      "source": [
        " 24. What is method chaining in Python OOP?\n",
        "- Method chaining in Python is a programming technique used in object-oriented programming. It allows multiple methods to be called sequentially on the same object in a single statement. Each method in the chain performs an action and returns the object itself, enabling the next method to be called immediately. This approach enhances code readability and conciseness by eliminating the need for intermediate variables.\n",
        "\n",
        " 25. What is the purpose of the __call__ method in Python?\n",
        " - The __call__ method in Python enables instances of a class to be called like regular functions. When a class implements this method, its instances become callable objects. The __call__ method defines the behavior that occurs when the instance is \"called\" using parentheses. It can accept arguments and return values, similar to a standard function. This feature allows for creating objects that encapsulate specific functionalities and can be invoked in a function-like manner, offering a flexible and expressive way to structure code."
      ],
      "metadata": {
        "id": "rnmxkaO7g6Vx"
      }
    },
    {
      "cell_type": "markdown",
      "source": [
        "# Practical Questions"
      ],
      "metadata": {
        "id": "D5oYCXJlkd9J"
      }
    },
    {
      "cell_type": "markdown",
      "source": [
        " 1.  1.  Create a parent class Animal with a method speak() that prints a generic message. Create a child class Dog\n",
        "that overrides the speak() method to print \"Bark!\"."
      ],
      "metadata": {
        "id": "cofsKJ93nLw9"
      }
    },
    {
      "cell_type": "code",
      "source": [
        "class Animal:\n",
        "    def speak(self):\n",
        "        print(\"animal sound\")"
      ],
      "metadata": {
        "id": "GNO4JlDynnTa"
      },
      "execution_count": null,
      "outputs": []
    },
    {
      "cell_type": "code",
      "source": [
        " anm=animal()"
      ],
      "metadata": {
        "id": "_1WuibVxf0Qr"
      },
      "execution_count": null,
      "outputs": []
    },
    {
      "cell_type": "code",
      "source": [
        "anm.sound()"
      ],
      "metadata": {
        "colab": {
          "base_uri": "https://localhost:8080/"
        },
        "id": "3d8lZai_gFE3",
        "outputId": "08eac51c-5589-4f13-e5ff-a537941ff263"
      },
      "execution_count": null,
      "outputs": [
        {
          "output_type": "stream",
          "name": "stdout",
          "text": [
            "animal sound\n"
          ]
        }
      ]
    },
    {
      "cell_type": "code",
      "source": [
        "class dog(animal):\n",
        "  def speak(self):\n",
        "    print(\"bark sound\")"
      ],
      "metadata": {
        "id": "aa2nsrSjnGUb"
      },
      "execution_count": null,
      "outputs": []
    },
    {
      "cell_type": "code",
      "source": [
        "dog.sound()"
      ],
      "metadata": {
        "colab": {
          "base_uri": "https://localhost:8080/",
          "height": 141
        },
        "id": "k6mz7e3Fn5J2",
        "outputId": "2db12858-f4ea-4451-b488-c0b103f4205e"
      },
      "execution_count": null,
      "outputs": [
        {
          "output_type": "error",
          "ename": "TypeError",
          "evalue": "animal.sound() missing 1 required positional argument: 'self'",
          "traceback": [
            "\u001b[0;31m---------------------------------------------------------------------------\u001b[0m",
            "\u001b[0;31mTypeError\u001b[0m                                 Traceback (most recent call last)",
            "\u001b[0;32m<ipython-input-54-2264bd30b84c>\u001b[0m in \u001b[0;36m<cell line: 0>\u001b[0;34m()\u001b[0m\n\u001b[0;32m----> 1\u001b[0;31m \u001b[0mdog\u001b[0m\u001b[0;34m.\u001b[0m\u001b[0msound\u001b[0m\u001b[0;34m(\u001b[0m\u001b[0;34m)\u001b[0m\u001b[0;34m\u001b[0m\u001b[0;34m\u001b[0m\u001b[0m\n\u001b[0m",
            "\u001b[0;31mTypeError\u001b[0m: animal.sound() missing 1 required positional argument: 'self'"
          ]
        }
      ]
    },
    {
      "cell_type": "markdown",
      "source": [
        "2.  Write a program to create an abstract class Shape with a method area() Derive classes Circle and Rectangle\n",
        "from it and implement the area() method in both.\n",
        "-"
      ],
      "metadata": {
        "id": "8SrOgTa6qpnb"
      }
    },
    {
      "cell_type": "code",
      "source": [
        "from abc import ABC, abstractmethod\n",
        "\n",
        "class Shape(ABC):\n",
        "    @abstractmethod\n",
        "    def area(self):\n",
        "        pass\n",
        "\n",
        "class Circle(Shape):\n",
        "    def __init__(self, radius):\n",
        "        self.radius = radius\n",
        "    def area(self):\n",
        "        return 3.14159 * self.radius**2\n",
        "\n",
        "class Rectangle(Shape):\n",
        "    def __init__(self, length, width):\n",
        "        self.length = length\n",
        "        self.width = width\n",
        "    def area(self):\n",
        "        return self.length * self.width\n",
        "\n",
        "# Example usage:\n",
        "circle = Circle(5)\n",
        "rectangle = Rectangle(4, 6)\n",
        "\n",
        "print(f\"Circle area: {circle.area()}\")\n",
        "print(f\"Rectangle area: {rectangle.area()}\")"
      ],
      "metadata": {
        "colab": {
          "base_uri": "https://localhost:8080/"
        },
        "id": "_FwQ_kVx-Mqr",
        "outputId": "a9599494-7bd6-4320-91f9-f59cd31a5d47"
      },
      "execution_count": null,
      "outputs": [
        {
          "output_type": "stream",
          "name": "stdout",
          "text": [
            "Circle area: 78.53975\n",
            "Rectangle area: 24\n"
          ]
        }
      ]
    },
    {
      "cell_type": "markdown",
      "source": [
        "3.  Implement a multi-level inheritance scenario where a class Vehicle has an attribute type. Derive a class Car\n",
        "and further derive a class ElectricCar that adds a battery attribute."
      ],
      "metadata": {
        "id": "y_pF6biG6GMk"
      }
    },
    {
      "cell_type": "code",
      "source": [
        " class car(vehicle):\n",
        "  def__init__(self,type,model):\n",
        "    super().__init__(type)\n",
        "    self.model=model\n",
        "\n",
        "    class ElectricCar(car):\n",
        "      def__init__(self,type,model,battery):\n",
        "        super().__init__(type model)\n",
        "        self.battery=battery"
      ],
      "metadata": {
        "id": "i2jrXAql6yis"
      },
      "execution_count": null,
      "outputs": []
    },
    {
      "cell_type": "markdown",
      "source": [
        " 4. Demonstrate polymorphism by creating a base class Bird with a method fly(). Create two derived classes\n",
        "Sparrow and Penguin that override the fly() method"
      ],
      "metadata": {
        "id": "QQ1wywu384AG"
      }
    },
    {
      "cell_type": "code",
      "source": [
        "# Base class\n",
        "class Bird:\n",
        "    def fly(self):\n",
        "        return \"Birds can generally fly.\"\n",
        "\n",
        "# Derived class 1\n",
        "class Sparrow(Bird):\n",
        "\n",
        "    def fly(self):\n",
        "        return \"Sparrows fly in the sky.\"\n",
        "\n",
        "# Derived class 2\n",
        "class Penguin(Bird):\n",
        "    def fly(self):\n",
        "        return \"Penguins cannot fly, but they can swim.\"\n",
        "\n",
        "# Demonstrate polymorphism\n",
        "sparrow = Sparrow()\n",
        "penguin = Penguin()\n",
        "\n",
        "print(sparrow.fly())\n",
        "print(penguin.fly())"
      ],
      "metadata": {
        "colab": {
          "base_uri": "https://localhost:8080/"
        },
        "id": "mXgoSgfJ_e0X",
        "outputId": "d4d0ca09-d2f1-4e20-a815-10f22dd74eac"
      },
      "execution_count": null,
      "outputs": [
        {
          "output_type": "stream",
          "name": "stdout",
          "text": [
            "Sparrows fly in the sky.\n",
            "Penguins cannot fly, but they can swim.\n"
          ]
        }
      ]
    },
    {
      "cell_type": "markdown",
      "source": [
        " 5. Write a program to demonstrate encapsulation by creating a class BankAccount with private attributes balance and methods to deposit, withdraw, and check balance.\n"
      ],
      "metadata": {
        "id": "3pvcoax4_l6W"
      }
    },
    {
      "cell_type": "code",
      "source": [
        " class BankAccount :\n",
        "\n",
        "  def __init__(self,account_number,balance):\n",
        "    self.__balance =balance\n",
        "\n",
        "  def deposit(self,amount):\n",
        "    self.__balance = self.__balance+amount\n",
        "\n",
        "  def withdraw (self,amount):\n",
        "    if self.__balance >=amount:\n",
        "      self.__balance = self.__balance-amount\n",
        "      return True\n",
        "    else:\n",
        "      return False\n",
        "\n",
        "  def check_balance(self):\n",
        "    return self.__balance"
      ],
      "metadata": {
        "id": "QR4ozFLkNQuv"
      },
      "execution_count": null,
      "outputs": []
    },
    {
      "cell_type": "code",
      "source": [
        " acc1 = BankAccount(1000)"
      ],
      "metadata": {
        "id": "KL-bc6fFRC8_"
      },
      "execution_count": null,
      "outputs": []
    },
    {
      "cell_type": "code",
      "source": [
        "acc1.get_balance()"
      ],
      "metadata": {
        "colab": {
          "base_uri": "https://localhost:8080/"
        },
        "id": "10vl4awdTXQE",
        "outputId": "17466fc4-096a-41ea-fddb-55dfcd34a9a7"
      },
      "execution_count": null,
      "outputs": [
        {
          "output_type": "execute_result",
          "data": {
            "text/plain": [
              "0"
            ]
          },
          "metadata": {},
          "execution_count": 20
        }
      ]
    },
    {
      "cell_type": "code",
      "source": [
        " acc1.deposit(500)"
      ],
      "metadata": {
        "id": "HBjxeEvES1w3"
      },
      "execution_count": null,
      "outputs": []
    },
    {
      "cell_type": "markdown",
      "source": [
        " 6. . Demonstrate runtime polymorphism using a method play() in a base class Instrument. Derive classes Guitar and Piano that implement their own version of play()."
      ],
      "metadata": {
        "id": "8R5nYKW_UAey"
      }
    },
    {
      "cell_type": "code",
      "source": [
        " class Instrument:\n",
        "  def play(self):\n",
        "     print(\"Strumming the guitar\")\n",
        "      Instrument = Instrument()\n",
        "\n",
        "     class Piano(Instrument):\n",
        "      def play(self):\n",
        "        print(\"playing the piano\")\n",
        "        Piano = Piano()\n",
        "\n",
        "        class Guitar(Instrument):\n",
        "      def play(self):\n",
        "        print(\"playing the guitar\")\n",
        "        Guitar = Guitar()\n",
        "\n",
        "Instrument.play()\n",
        "piano .play()\n",
        "guitar.play()\n",
        "\n",
        "\n"
      ],
      "metadata": {
        "id": "zNjrleenT9QZ",
        "colab": {
          "base_uri": "https://localhost:8080/",
          "height": 106
        },
        "outputId": "2be3613a-adad-4141-ae7d-e3a6a21b3f49"
      },
      "execution_count": 1,
      "outputs": [
        {
          "output_type": "error",
          "ename": "IndentationError",
          "evalue": "unexpected indent (<ipython-input-1-bf94b4bdd775>, line 4)",
          "traceback": [
            "\u001b[0;36m  File \u001b[0;32m\"<ipython-input-1-bf94b4bdd775>\"\u001b[0;36m, line \u001b[0;32m4\u001b[0m\n\u001b[0;31m    Instrument = Instrument()\u001b[0m\n\u001b[0m    ^\u001b[0m\n\u001b[0;31mIndentationError\u001b[0m\u001b[0;31m:\u001b[0m unexpected indent\n"
          ]
        }
      ]
    },
    {
      "cell_type": "markdown",
      "source": [
        "7. Create a class MathOperations with a class method add_numbers() to add two numbers and a static\n",
        "method subtract_numbers() to subtract two numbers"
      ],
      "metadata": {
        "id": "_7HaMsnSaZRR"
      }
    },
    {
      "cell_type": "code",
      "source": [
        " class MathOperations:\n",
        "  @staticmethod\n",
        "  def add_number(x,y,cls)\n",
        "    return x+y\n",
        "\n",
        "  @staticmethod\n",
        "  def subtract_number(x,y):\n",
        "    return x-y\n",
        "\n",
        "MathOperations.add(5,6)\n",
        "MathOperations.subtract(10,5)"
      ],
      "metadata": {
        "colab": {
          "base_uri": "https://localhost:8080/",
          "height": 106
        },
        "id": "H5nUNE1YXnlu",
        "outputId": "9e6dfd36-8b08-478a-dbfd-08303c93a789"
      },
      "execution_count": null,
      "outputs": [
        {
          "output_type": "error",
          "ename": "SyntaxError",
          "evalue": "expected ':' (<ipython-input-32-4c1e3881d8bc>, line 3)",
          "traceback": [
            "\u001b[0;36m  File \u001b[0;32m\"<ipython-input-32-4c1e3881d8bc>\"\u001b[0;36m, line \u001b[0;32m3\u001b[0m\n\u001b[0;31m    def add_number(x,y,cls)\u001b[0m\n\u001b[0m                           ^\u001b[0m\n\u001b[0;31mSyntaxError\u001b[0m\u001b[0;31m:\u001b[0m expected ':'\n"
          ]
        }
      ]
    },
    {
      "cell_type": "markdown",
      "source": [
        "8.  Implement a **class Person** with a** class method** to count the **total number of persons** created."
      ],
      "metadata": {
        "id": "amYo6PrnajQJ"
      }
    },
    {
      "cell_type": "code",
      "source": [
        "class person:\n",
        "  total_person=0\n",
        "\n",
        "  def __init__(self,name,age):\n",
        "    self.name=name\n",
        "    self.age=age\n",
        "    person.total_persons = person.total_persons+1\n",
        "\n",
        "  @classmethod\n",
        "  def get_total_person(cls):\n",
        "    return cls.total_person\n"
      ],
      "metadata": {
        "id": "xby43ErbawhK"
      },
      "execution_count": null,
      "outputs": []
    },
    {
      "cell_type": "code",
      "source": [
        " person.get_total_person()"
      ],
      "metadata": {
        "colab": {
          "base_uri": "https://localhost:8080/"
        },
        "id": "S3faIqAnarqS",
        "outputId": "97b1db77-a8ed-482a-f1af-062246614497"
      },
      "execution_count": null,
      "outputs": [
        {
          "output_type": "execute_result",
          "data": {
            "text/plain": [
              "0"
            ]
          },
          "metadata": {},
          "execution_count": 51
        }
      ]
    },
    {
      "cell_type": "code",
      "source": [],
      "metadata": {
        "id": "qZrTQrixce79"
      },
      "execution_count": null,
      "outputs": []
    },
    {
      "cell_type": "markdown",
      "source": [
        " 9. Write a class Fraction with attributes **numerator and denominator**. Override the **str method** to display the fraction as **\"numerator/denominator**\"."
      ],
      "metadata": {
        "id": "nDrF7tnlajTf"
      }
    },
    {
      "cell_type": "code",
      "source": [
        " class Fraction:\n",
        "    def __init__(self, numerator, denominator):\n",
        "        self.numerator = numerator\n",
        "        self.denominator = denominator\n",
        "\n",
        "    def __str__(self):\n",
        "        return f\"{self.numerator}/{self.denominator}\"\n",
        "\n",
        "# Example usage:\n",
        "fraction = Fraction(1, 2)\n",
        "print(fraction)  # Output: 1/2\n",
        "\n",
        "fraction2 = Fraction(3, 4)\n",
        "print(fraction2)  # Output: 3/4"
      ],
      "metadata": {
        "colab": {
          "base_uri": "https://localhost:8080/"
        },
        "id": "LgJoUL6edL1Y",
        "outputId": "6019c84e-e955-4e87-9dd0-08f98d8461c5"
      },
      "execution_count": null,
      "outputs": [
        {
          "output_type": "stream",
          "name": "stdout",
          "text": [
            "1/2\n",
            "3/4\n"
          ]
        }
      ]
    },
    {
      "cell_type": "code",
      "source": [],
      "metadata": {
        "id": "nMf972jHeThk"
      },
      "execution_count": null,
      "outputs": []
    },
    {
      "cell_type": "markdown",
      "source": [
        "10. Demonstrate operator overloading by creating a class Vector and overriding the add method to add two vectors."
      ],
      "metadata": {
        "id": "rzQQvVuVeauR"
      }
    },
    {
      "cell_type": "code",
      "source": [
        "class Vector:\n",
        "    def __init__(self, x=0, y=0):\n",
        "        self.x = x\n",
        "        self.y = y\n",
        "\n",
        "    def __add__(self, other):\n",
        "        if isinstance(other, Vector):\n",
        "            return Vector(self.x + other.x, self.y + other.y)\n",
        "        else:\n",
        "            raise TypeError(\"Unsupported operand type for +: 'Vector' and '{}'\".format(type(other).__name__))\n",
        "\n",
        "    def __str__(self):\n",
        "        return \"({}, {})\".format(self.x, self.y)\n",
        "\n",
        "# Example usage:\n",
        "v1 = Vector(2, 3)\n",
        "v2 = Vector(4, -1)\n",
        "v3 = v1 + v2\n",
        "print(v3)\n",
        "\n",
        "v4 = Vector(1, 1)\n",
        "# The following line would raise a TypeError because it attempts to add a Vector with an integer.\n",
        "# v5 = v4 + 5"
      ],
      "metadata": {
        "id": "OzcKP7iaejoq"
      },
      "execution_count": null,
      "outputs": []
    },
    {
      "cell_type": "code",
      "source": [
        "class vehicle:\n"
      ],
      "metadata": {
        "id": "-XHxW3X5fWYj"
      },
      "execution_count": null,
      "outputs": []
    },
    {
      "cell_type": "markdown",
      "source": [
        "11.  Create a class Person with attributes name and age. Add a method greet() that prints \"Hello, my name is {name} and I am {age} years old\"."
      ],
      "metadata": {
        "id": "-VkZtJsXf93j"
      }
    },
    {
      "cell_type": "code",
      "source": [
        "class Person:\n",
        "    def __init__(self, name, age):\n",
        "        self.name = name\n",
        "        self.age = age\n",
        "\n",
        "    def greet(self):\n",
        "        print(f\"Hello, my name is {self.name} and I am {self.age} years old\")"
      ],
      "metadata": {
        "id": "gNK6DvLWgYyi"
      },
      "execution_count": null,
      "outputs": []
    },
    {
      "cell_type": "code",
      "source": [],
      "metadata": {
        "id": "70y8NL6KgZhc"
      },
      "execution_count": null,
      "outputs": []
    },
    {
      "cell_type": "markdown",
      "source": [
        "12. Implement a class Student with attributes name and grades. Create a method average_grade() to compute the average of the grades.\n"
      ],
      "metadata": {
        "id": "WHfLhusFgfsK"
      }
    },
    {
      "cell_type": "code",
      "source": [
        "class Student:\n",
        "    \"\"\"\n",
        "    A class representing a student with name and grades.\n",
        "    \"\"\"\n",
        "    def __init__(self, name, grades):\n",
        "        \"\"\"\n",
        "        Initializes a Student object.\n",
        "\n",
        "        Args:\n",
        "            name (str): The name of the student.\n",
        "            grades (list): A list of the student's grades.\n",
        "        \"\"\"\n",
        "        self.name = name\n",
        "        self.grades = grades\n",
        "\n",
        "    def average_grade(self):\n",
        "        \"\"\"\n",
        "        Calculates the average grade of the student.\n",
        "\n",
        "        Returns:\n",
        "            float: The average grade.\n",
        "        \"\"\"\n",
        "        if not self.grades:\n",
        "            return 0.0  # Return 0 if there are no grades\n",
        "        return sum(self.grades) / len(self.grades)\n",
        "\n",
        "# Example Usage\n",
        "student1 = Student(\"Alice\", [85, 90, 95, 78])\n",
        "average = student1.average_grade()\n",
        "print(f\"{student1.name}'s average grade: {average}\")\n",
        "\n",
        "student2 = Student(\"Bob\", [])  # Student with no grades\n",
        "average = student2.average_grade()\n",
        "print(f\"{student2.name}'s average grade: {average}\")"
      ],
      "metadata": {
        "colab": {
          "base_uri": "https://localhost:8080/"
        },
        "id": "lzHSmOQqgkt0",
        "outputId": "891ccfea-382e-4c32-ac5f-875d57182164"
      },
      "execution_count": null,
      "outputs": [
        {
          "output_type": "stream",
          "name": "stdout",
          "text": [
            "Alice's average grade: 87.0\n",
            "Bob's average grade: 0.0\n"
          ]
        }
      ]
    },
    {
      "cell_type": "code",
      "source": [],
      "metadata": {
        "id": "Y3J-obHNhNAP"
      },
      "execution_count": null,
      "outputs": []
    },
    {
      "cell_type": "markdown",
      "source": [
        " 13. Create a class Rectangle with methods set_dimensions() to set the dimensions and area() to calculate the area."
      ],
      "metadata": {
        "id": "FS4l0SENhW87"
      }
    },
    {
      "cell_type": "code",
      "source": [
        "class Rectangle:\n",
        "    def __init__(self, length, width):\n",
        "        self.length = length\n",
        "        self.width = width\n",
        "\n",
        "    def set_dimensions(self, new_length, new_width):\n",
        "        self.length = new_length\n",
        "        self.width = new_width\n",
        "\n",
        "    def area(self):\n",
        "        return self.length * self.width\n",
        "\n",
        "# Example usage:\n",
        "rectangle = Rectangle(5, 3)  # Create a rectangle with initial length and width\n",
        "print(\"Initial area:\", rectangle.area()) # Output: Initial area: 15\n",
        "\n",
        "rectangle.set_dimensions(7, 4) # Change the dimensions\n",
        "print(\"New area:\", rectangle.area()) # Output: New area: 28"
      ],
      "metadata": {
        "colab": {
          "base_uri": "https://localhost:8080/"
        },
        "id": "wX5dvXYAhSKd",
        "outputId": "a921a746-237e-40e3-df1b-d4fb97a233ac"
      },
      "execution_count": null,
      "outputs": [
        {
          "output_type": "stream",
          "name": "stdout",
          "text": [
            "Initial area: 15\n",
            "New area: 28\n"
          ]
        }
      ]
    },
    {
      "cell_type": "markdown",
      "source": [
        " 14. Create a class Employee with a method calculate_salary() that computes the salary based on hours worked and hourly rate. Create a derived class Manager that adds a bonus to the salary."
      ],
      "metadata": {
        "id": "06axEF3whiol"
      }
    },
    {
      "cell_type": "code",
      "source": [
        "class Employee:\n",
        "    def __init__(self, name, hours_worked, hourly_rate):\n",
        "        self.name = name\n",
        "        self.hours_worked = hours_worked\n",
        "        self.hourly_rate = hourly_rate\n",
        "\n",
        "    def calculate_salary(self):\n",
        "        return self.hours_worked * self.hourly_rate\n",
        "\n",
        "class Manager(Employee):\n",
        "    def __init__(self, name, hours_worked, hourly_rate, bonus):\n",
        "        super().__init__(name, hours_worked, hourly_rate)\n",
        "        self.bonus = bonus\n",
        "\n",
        "    def calculate_salary(self):\n",
        "        base_salary = super().calculate_salary()\n",
        "        return base_salary + self.bonus\n",
        "\n",
        "# Example usage\n",
        "employee = Employee(\"John Doe\", 160, 50)\n",
        "manager = Manager(\"Jane Smith\", 160, 60, 5000)\n",
        "\n",
        "print(f\"{employee.name}'s salary: ${employee.calculate_salary()}\")\n",
        "print(f\"{manager.name}'s salary: ${manager.calculate_salary()}\")\n"
      ],
      "metadata": {
        "id": "USWg-SKohvIg",
        "colab": {
          "base_uri": "https://localhost:8080/"
        },
        "outputId": "82df5c38-08ff-4864-b5b9-425e80ce9474"
      },
      "execution_count": 3,
      "outputs": [
        {
          "output_type": "stream",
          "name": "stdout",
          "text": [
            "John Doe's salary: $8000\n",
            "Jane Smith's salary: $14600\n"
          ]
        }
      ]
    },
    {
      "cell_type": "markdown",
      "source": [
        " 15. Create a class Product with attributes name, price, and quantity. Implement a method total_price() that\n",
        "calculates the total price of the product."
      ],
      "metadata": {
        "id": "ZMTUMYAUdNH3"
      }
    },
    {
      "cell_type": "code",
      "source": [
        "class Product:\n",
        "    def __init__(self, name, price, quantity):\n",
        "        self.name = name\n",
        "        self.price = price\n",
        "        self.quantity = quantity\n",
        "\n",
        "    def total_price(self):\n",
        "        return self.price * self.quantity\n",
        "\n",
        "# Example usage\n",
        "product = Product(\"Laptop\", 50000, 3)\n",
        "print(f\"Total price for {product.quantity} {product.name}s: ₹{product.total_price():,.2f}\")\n"
      ],
      "metadata": {
        "colab": {
          "base_uri": "https://localhost:8080/"
        },
        "id": "CLSxayKIdENX",
        "outputId": "8cf77d8a-809f-4dcf-8d62-fe4941a8dfb8"
      },
      "execution_count": 4,
      "outputs": [
        {
          "output_type": "stream",
          "name": "stdout",
          "text": [
            "Total price for 3 Laptops: ₹150,000.00\n"
          ]
        }
      ]
    },
    {
      "cell_type": "markdown",
      "source": [
        " 16.  Create a class Animal with an abstract method sound(). Create two derived classes Cow and Sheep that\n",
        "implement the sound() method."
      ],
      "metadata": {
        "id": "ubJ-tk5RdhjA"
      }
    },
    {
      "cell_type": "code",
      "source": [
        "abstract class Animal {\n",
        "    abstract void sound();\n",
        "}\n",
        "\n",
        "class Cow extends Animal {\n",
        "    @Override\n",
        "    void sound() {\n",
        "        System.out.println(\"Cow says: Moo\");\n",
        "    }\n",
        "}\n",
        "\n",
        "class Sheep extends Animal {\n",
        "    @Override\n",
        "    void sound() {\n",
        "        System.out.println(\"Sheep says: Baa\");\n",
        "    }\n",
        "}\n",
        "\n",
        "public class Main {\n",
        "    public static void main(String[] args) {\n",
        "        Animal cow = new Cow();\n",
        "        Animal sheep = new Sheep();\n",
        "    }\n",
        "}\n"
      ],
      "metadata": {
        "id": "EzjwLwekeAXI"
      },
      "execution_count": null,
      "outputs": []
    },
    {
      "cell_type": "markdown",
      "source": [
        "17. Create a class Book with attributes title, author, and year_published. Add a method get_book_info() that\n",
        "returns a formatted string with the book's details."
      ],
      "metadata": {
        "id": "m7OL1RI6e1V-"
      }
    },
    {
      "cell_type": "code",
      "source": [
        "class Book:\n",
        "    def __init__(self, title, author, year_published):\n",
        "        self.title = title\n",
        "        self.author = author\n",
        "        self.year_published = year_published\n",
        "\n",
        "    def get_book_info(self):\n",
        "        return f\"'{self.title}' by {self.author}, published in {self.year_published}\"\n",
        "\n",
        "# Example usage\n",
        "if __name__ == \"__main__\":\n",
        "    my_book = Book(\"1984\", \"George Orwell\", 1949)\n",
        "    print(my_book.get_book_info())\n"
      ],
      "metadata": {
        "colab": {
          "base_uri": "https://localhost:8080/"
        },
        "id": "tpspgN8AedTr",
        "outputId": "2a415f90-d691-4ecb-b90a-f1ceb454362d"
      },
      "execution_count": 9,
      "outputs": [
        {
          "output_type": "stream",
          "name": "stdout",
          "text": [
            "'1984' by George Orwell, published in 1949\n"
          ]
        }
      ]
    },
    {
      "cell_type": "markdown",
      "source": [
        "18.  Create a class House with attributes address and price. Create a derived class Mansion that adds an\n",
        "attribute number_of_rooms."
      ],
      "metadata": {
        "id": "D9ogBK9_fGb6"
      }
    },
    {
      "cell_type": "code",
      "source": [
        "# Base class\n",
        "class House:\n",
        "    def __init__(self, address, price):\n",
        "        self.address = address\n",
        "        self.price = price\n",
        "\n",
        "# Derived class\n",
        "class Mansion(House):\n",
        "    def __init__(self, address, price, number_of_rooms):\n",
        "        super().__init__(address, price)\n",
        "        self.number_of_rooms = number_of_rooms\n",
        "\n",
        "# Example usage\n",
        "if __name__ == \"__main__\":\n",
        "    my_mansion = Mansion(\"123 Luxury St\", 2500000, 12)\n",
        "    print(f\"Address: {my_mansion.address}\")\n",
        "    print(f\"Price: ${my_mansion.price}\")\n",
        "    print(f\"Number of rooms: {my_mansion.number_of_rooms}\")\n"
      ],
      "metadata": {
        "colab": {
          "base_uri": "https://localhost:8080/"
        },
        "id": "gmQ2tukrfD3C",
        "outputId": "d35f2e3b-9579-4782-8564-861849b4b50a"
      },
      "execution_count": 10,
      "outputs": [
        {
          "output_type": "stream",
          "name": "stdout",
          "text": [
            "Address: 123 Luxury St\n",
            "Price: $2500000\n",
            "Number of rooms: 12\n"
          ]
        }
      ]
    },
    {
      "cell_type": "code",
      "source": [],
      "metadata": {
        "id": "wbHhrvSnfS-o"
      },
      "execution_count": null,
      "outputs": []
    }
  ]
}